{
 "cells": [
  {
   "cell_type": "code",
   "execution_count": 1,
   "metadata": {},
   "outputs": [],
   "source": [
    "from sympy import *\n",
    "from sympy.plotting import plot\n"
   ]
  },
  {
   "cell_type": "code",
   "execution_count": 2,
   "metadata": {},
   "outputs": [],
   "source": [
    "x = Symbol(\"x\")"
   ]
  },
  {
   "cell_type": "code",
   "execution_count": 3,
   "metadata": {},
   "outputs": [],
   "source": [
    "f  = x**3 - 50*x \n",
    "g = -x**4 + 88*x**2 - 241\n",
    "h = f - g"
   ]
  },
  {
   "cell_type": "code",
   "execution_count": 4,
   "metadata": {},
   "outputs": [
    {
     "data": {
      "text/plain": [
       "[[-9.46, -373.46], [1.42, -68.06], [-1.99, 91.59], [9.03, 284.92]]"
      ]
     },
     "execution_count": 4,
     "metadata": {},
     "output_type": "execute_result"
    }
   ],
   "source": [
    "k = solve(h)\n",
    "[[xelem.n().round(2),f.subs(x,xelem).n().round(2)]for xelem in k]"
   ]
  },
  {
   "cell_type": "code",
   "execution_count": 6,
   "metadata": {},
   "outputs": [
    {
     "ename": "ValueError",
     "evalue": "The TextBackend supports only one graph per Plot.",
     "output_type": "error",
     "traceback": [
      "\u001b[1;31m---------------------------------------------------------------------------\u001b[0m",
      "\u001b[1;31mValueError\u001b[0m                                Traceback (most recent call last)",
      "Cell \u001b[1;32mIn[6], line 1\u001b[0m\n\u001b[1;32m----> 1\u001b[0m plot(f,g)\n",
      "File \u001b[1;32mc:\\Users\\Admin\\AppData\\Local\\Programs\\Python\\Python311\\Lib\\site-packages\\sympy\\plotting\\plot.py:1873\u001b[0m, in \u001b[0;36mplot\u001b[1;34m(show, *args, **kwargs)\u001b[0m\n\u001b[0;32m   1871\u001b[0m plots \u001b[39m=\u001b[39m Plot(\u001b[39m*\u001b[39mseries, \u001b[39m*\u001b[39m\u001b[39m*\u001b[39mkwargs)\n\u001b[0;32m   1872\u001b[0m \u001b[39mif\u001b[39;00m show:\n\u001b[1;32m-> 1873\u001b[0m     plots\u001b[39m.\u001b[39;49mshow()\n\u001b[0;32m   1874\u001b[0m \u001b[39mreturn\u001b[39;00m plots\n",
      "File \u001b[1;32mc:\\Users\\Admin\\AppData\\Local\\Programs\\Python\\Python311\\Lib\\site-packages\\sympy\\plotting\\plot.py:251\u001b[0m, in \u001b[0;36mPlot.show\u001b[1;34m(self)\u001b[0m\n\u001b[0;32m    249\u001b[0m     \u001b[39mself\u001b[39m\u001b[39m.\u001b[39m_backend\u001b[39m.\u001b[39mclose()\n\u001b[0;32m    250\u001b[0m \u001b[39mself\u001b[39m\u001b[39m.\u001b[39m_backend \u001b[39m=\u001b[39m \u001b[39mself\u001b[39m\u001b[39m.\u001b[39mbackend(\u001b[39mself\u001b[39m)\n\u001b[1;32m--> 251\u001b[0m \u001b[39mself\u001b[39;49m\u001b[39m.\u001b[39;49m_backend\u001b[39m.\u001b[39;49mshow()\n",
      "File \u001b[1;32mc:\\Users\\Admin\\AppData\\Local\\Programs\\Python\\Python311\\Lib\\site-packages\\sympy\\plotting\\plot.py:1575\u001b[0m, in \u001b[0;36mTextBackend.show\u001b[1;34m(self)\u001b[0m\n\u001b[0;32m   1573\u001b[0m     \u001b[39mreturn\u001b[39;00m\n\u001b[0;32m   1574\u001b[0m \u001b[39mif\u001b[39;00m \u001b[39mlen\u001b[39m(\u001b[39mself\u001b[39m\u001b[39m.\u001b[39mparent\u001b[39m.\u001b[39m_series) \u001b[39m!=\u001b[39m \u001b[39m1\u001b[39m:\n\u001b[1;32m-> 1575\u001b[0m     \u001b[39mraise\u001b[39;00m \u001b[39mValueError\u001b[39;00m(\n\u001b[0;32m   1576\u001b[0m         \u001b[39m'\u001b[39m\u001b[39mThe TextBackend supports only one graph per Plot.\u001b[39m\u001b[39m'\u001b[39m)\n\u001b[0;32m   1577\u001b[0m \u001b[39melif\u001b[39;00m \u001b[39mnot\u001b[39;00m \u001b[39misinstance\u001b[39m(\u001b[39mself\u001b[39m\u001b[39m.\u001b[39mparent\u001b[39m.\u001b[39m_series[\u001b[39m0\u001b[39m], LineOver1DRangeSeries):\n\u001b[0;32m   1578\u001b[0m     \u001b[39mraise\u001b[39;00m \u001b[39mValueError\u001b[39;00m(\n\u001b[0;32m   1579\u001b[0m         \u001b[39m'\u001b[39m\u001b[39mThe TextBackend supports only expressions over a 1D range\u001b[39m\u001b[39m'\u001b[39m)\n",
      "\u001b[1;31mValueError\u001b[0m: The TextBackend supports only one graph per Plot."
     ]
    }
   ],
   "source": [
    "plot(f,g)"
   ]
  },
  {
   "cell_type": "code",
   "execution_count": 7,
   "metadata": {},
   "outputs": [
    {
     "name": "stdout",
     "output_type": "stream",
     "text": [
      "   1900 |                                                      .\n",
      "        |                                                       \n",
      "        |                                                       \n",
      "        |                                                       \n",
      "        |                                                     . \n",
      "        |.                                                      \n",
      "        |                                                       \n",
      "        |                                                       \n",
      "        |                                                    .  \n",
      "        | .                       ....                          \n",
      "    100 |----------------------...----..------------------------\n",
      "        |                     /         ..                      \n",
      "        |  .                ..            \\                 .   \n",
      "        |                  /               \\                    \n",
      "        |                 /                 \\              .    \n",
      "        |   .            /                   \\                  \n",
      "        |               /                     \\           .     \n",
      "        |    .         /                       ..               \n",
      "        |     \\      ..                          \\       .      \n",
      "        |      \\    /                             \\     /       \n",
      "  -1700 |_______________________________________________________\n",
      "         -10                        0                          10\n"
     ]
    },
    {
     "data": {
      "text/plain": [
       "<sympy.plotting.plot.Plot at 0x28d92053090>"
      ]
     },
     "execution_count": 7,
     "metadata": {},
     "output_type": "execute_result"
    }
   ],
   "source": [
    "plot(h)"
   ]
  }
 ],
 "metadata": {
  "kernelspec": {
   "display_name": "Python 3",
   "language": "python",
   "name": "python3"
  },
  "language_info": {
   "codemirror_mode": {
    "name": "ipython",
    "version": 3
   },
   "file_extension": ".py",
   "mimetype": "text/x-python",
   "name": "python",
   "nbconvert_exporter": "python",
   "pygments_lexer": "ipython3",
   "version": "3.11.0 (main, Oct 24 2022, 18:26:48) [MSC v.1933 64 bit (AMD64)]"
  },
  "orig_nbformat": 4,
  "vscode": {
   "interpreter": {
    "hash": "72b2382ece9768098284d92bbc69d35954e75b60d1e25897d1389c232f4796f0"
   }
  }
 },
 "nbformat": 4,
 "nbformat_minor": 2
}
